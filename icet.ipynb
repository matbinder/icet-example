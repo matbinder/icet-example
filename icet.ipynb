{
 "cells": [
  {
   "cell_type": "code",
   "execution_count": 1,
   "metadata": {
    "ExecuteTime": {
     "end_time": "2019-07-08T12:35:03.536282Z",
     "start_time": "2019-07-08T12:34:56.336280Z"
    }
   },
   "outputs": [],
   "source": [
    "from ase.db import connect\n",
    "from icet import (ClusterSpace, StructureContainer,\n",
    "                  CrossValidationEstimator, ClusterExpansion)"
   ]
  },
  {
   "cell_type": "markdown",
   "metadata": {},
   "source": [
    "# step 1: Basic setup"
   ]
  },
  {
   "cell_type": "code",
   "execution_count": 2,
   "metadata": {
    "ExecuteTime": {
     "end_time": "2019-07-08T12:35:03.592220Z",
     "start_time": "2019-07-08T12:35:03.538350Z"
    }
   },
   "outputs": [],
   "source": [
    "db = connect('reference_data.db')\n",
    "prim = db.get(id=1).toatoms()  # primitive structure"
   ]
  },
  {
   "cell_type": "markdown",
   "metadata": {},
   "source": [
    "# step 2: Set up the basic structure and a cluster space"
   ]
  },
  {
   "cell_type": "code",
   "execution_count": 3,
   "metadata": {
    "ExecuteTime": {
     "end_time": "2019-07-08T12:35:03.933465Z",
     "start_time": "2019-07-08T12:35:03.593993Z"
    }
   },
   "outputs": [
    {
     "name": "stdout",
     "output_type": "stream",
     "text": [
      "====================================== Cluster Space =======================================\n",
      " chemical species: ['Ag', 'Pd'] (sublattice A)\n",
      " cutoffs: 13.5000 6.0000 5.5000\n",
      " total number of orbits: 55\n",
      " number of orbits by order: 0= 1  1= 1  2= 25  3= 12  4= 16\n",
      "--------------------------------------------------------------------------------------------\n",
      "index | order |  radius  | multiplicity | orbit_index | multi_component_vector | sublattices\n",
      "--------------------------------------------------------------------------------------------\n",
      "   0  |   0   |   0.0000 |        1     |      -1     |           .            |      .     \n",
      "   1  |   1   |   0.0000 |        1     |       0     |          [0]           |      A     \n",
      "   2  |   2   |   1.4460 |        6     |       1     |         [0, 0]         |     A-A    \n",
      "   3  |   2   |   2.0450 |        3     |       2     |         [0, 0]         |     A-A    \n",
      "   4  |   2   |   2.5046 |       12     |       3     |         [0, 0]         |     A-A    \n",
      "   5  |   2   |   2.8921 |        6     |       4     |         [0, 0]         |     A-A    \n",
      "   6  |   2   |   3.2334 |       12     |       5     |         [0, 0]         |     A-A    \n",
      "   7  |   2   |   3.5420 |        4     |       6     |         [0, 0]         |     A-A    \n",
      "   8  |   2   |   3.8258 |       24     |       7     |         [0, 0]         |     A-A    \n",
      "   9  |   2   |   4.0900 |        3     |       8     |         [0, 0]         |     A-A    \n",
      " ...\n",
      "  45  |   4   |   2.1691 |        8     |      44     |      [0, 0, 0, 0]      |   A-A-A-A  \n",
      "  46  |   4   |   2.2295 |       24     |      45     |      [0, 0, 0, 0]      |   A-A-A-A  \n",
      "  47  |   4   |   2.3434 |       48     |      46     |      [0, 0, 0, 0]      |   A-A-A-A  \n",
      "  48  |   4   |   2.4193 |        8     |      47     |      [0, 0, 0, 0]      |   A-A-A-A  \n",
      "  49  |   4   |   2.4222 |       24     |      48     |      [0, 0, 0, 0]      |   A-A-A-A  \n",
      "  50  |   4   |   2.5046 |        6     |      49     |      [0, 0, 0, 0]      |   A-A-A-A  \n",
      "  51  |   4   |   2.5657 |       48     |      50     |      [0, 0, 0, 0]      |   A-A-A-A  \n",
      "  52  |   4   |   2.7676 |       48     |      51     |      [0, 0, 0, 0]      |   A-A-A-A  \n",
      "  53  |   4   |   2.7940 |       12     |      52     |      [0, 0, 0, 0]      |   A-A-A-A  \n",
      "  54  |   4   |   2.8921 |        6     |      53     |      [0, 0, 0, 0]      |   A-A-A-A  \n",
      "============================================================================================\n"
     ]
    }
   ],
   "source": [
    "cs = ClusterSpace(atoms=prim,\n",
    "                  cutoffs=[13.5, 6.0, 5.5],\n",
    "                  chemical_symbols=['Ag', 'Pd'])\n",
    "print(cs)"
   ]
  },
  {
   "cell_type": "markdown",
   "metadata": {},
   "source": [
    "# step 3: Parse the input structures and set up a structure container"
   ]
  },
  {
   "cell_type": "code",
   "execution_count": 4,
   "metadata": {
    "ExecuteTime": {
     "end_time": "2019-07-08T12:35:08.610805Z",
     "start_time": "2019-07-08T12:35:03.935159Z"
    }
   },
   "outputs": [
    {
     "name": "stdout",
     "output_type": "stream",
     "text": [
      "========================== Structure Container ==========================\n",
      "Total number of structures: 625\n",
      "-------------------------------------------------------------------------\n",
      "index |       user_tag        | natoms | chemical formula | mixing_energy\n",
      "-------------------------------------------------------------------------\n",
      "   0  | Ag                    |     1  | Ag               |      0.000   \n",
      "   1  | Pd                    |     1  | Pd               |      0.000   \n",
      "   2  | AgPd_0002             |     2  | AgPd             |     -0.040   \n",
      "   3  | AgPd_0003             |     3  | AgPd2            |     -0.029   \n",
      "   4  | AgPd_0004             |     3  | Ag2Pd            |     -0.049   \n",
      "   5  | AgPd_0005             |     3  | AgPd2            |     -0.018   \n",
      "   6  | AgPd_0006             |     3  | Ag2Pd            |     -0.056   \n",
      "   7  | AgPd_0007             |     3  | AgPd2            |     -0.030   \n",
      "   8  | AgPd_0008             |     3  | Ag2Pd            |     -0.048   \n",
      "   9  | AgPd_0009             |     4  | AgPd3            |     -0.017   \n",
      " ...\n",
      " 615  | AgPd_0509             |     8  | Ag3Pd5           |     -0.031   \n",
      " 616  | AgPd_0510             |     8  | Ag3Pd5           |     -0.028   \n",
      " 617  | AgPd_0511             |     8  | Ag5Pd3           |     -0.057   \n",
      " 618  | AgPd_0513             |     8  | Ag5Pd3           |     -0.047   \n",
      " 619  | AgPd_0515             |     8  | Ag4Pd4           |     -0.044   \n",
      " 620  | AgPd_0516             |     8  | Ag4Pd4           |     -0.043   \n",
      " 621  | AgPd_0517             |     8  | Ag4Pd4           |     -0.040   \n",
      " 622  | AgPd_0518             |     8  | Ag4Pd4           |     -0.045   \n",
      " 623  | AgPd_0519             |     8  | Ag6Pd2           |     -0.047   \n",
      " 624  | AgPd_0505             |     8  | Ag2Pd6           |     -0.017   \n",
      "=========================================================================\n"
     ]
    }
   ],
   "source": [
    "sc = StructureContainer(cluster_space=cs)\n",
    "for row in db.select('natoms<=8'):\n",
    "    sc.add_structure(atoms=row.toatoms(),\n",
    "                     user_tag=row.tag,\n",
    "                     properties={'mixing_energy': row.mixing_energy})\n",
    "print(sc)"
   ]
  },
  {
   "cell_type": "markdown",
   "metadata": {},
   "source": [
    "# step 4: Train parameters"
   ]
  },
  {
   "cell_type": "code",
   "execution_count": 5,
   "metadata": {
    "ExecuteTime": {
     "end_time": "2019-07-08T12:35:11.803844Z",
     "start_time": "2019-07-08T12:35:08.612687Z"
    }
   },
   "outputs": [
    {
     "name": "stdout",
     "output_type": "stream",
     "text": [
      "============== CrossValidationEstimator ==============\n",
      "alpha_optimal                  : 3.162278e-05\n",
      "fit_method                     : lasso\n",
      "n_nonzero_parameters           : 40\n",
      "n_parameters                   : 55\n",
      "n_splits                       : 10\n",
      "n_target_values                : 625\n",
      "rmse_train                     : 0.00207139\n",
      "rmse_train_final               : 0.002089748\n",
      "rmse_validation                : 0.002349935\n",
      "seed                           : 42\n",
      "standardize                    : True\n",
      "validation_method              : k-fold\n",
      "======================================================\n"
     ]
    }
   ],
   "source": [
    "opt = CrossValidationEstimator(fit_data=sc.get_fit_data(key='mixing_energy'),\n",
    "                               fit_method='lasso')\n",
    "opt.validate()\n",
    "opt.train()\n",
    "print(opt)"
   ]
  },
  {
   "cell_type": "markdown",
   "metadata": {},
   "source": [
    "# step 5: Construct cluster expansion and write it to file"
   ]
  },
  {
   "cell_type": "code",
   "execution_count": 6,
   "metadata": {
    "ExecuteTime": {
     "end_time": "2019-07-08T12:35:12.216382Z",
     "start_time": "2019-07-08T12:35:11.806075Z"
    }
   },
   "outputs": [
    {
     "name": "stdout",
     "output_type": "stream",
     "text": [
      "========================================== Cluster Expansion ===========================================\n",
      " chemical species: ['Ag', 'Pd'] (sublattice A)\n",
      " cutoffs: 13.5000 6.0000 5.5000\n",
      " total number of orbits: 55\n",
      " number of orbits by order: 0= 1  1= 1  2= 25  3= 12  4= 16\n",
      "--------------------------------------------------------------------------------------------------------\n",
      "index | order |  radius  | multiplicity | orbit_index | multi_component_vector | sublattices |    ECI   \n",
      "--------------------------------------------------------------------------------------------------------\n",
      "   0  |   0   |   0.0000 |        1     |      -1     |           .            |      .      |    -0.045\n",
      "   1  |   1   |   0.0000 |        1     |       0     |          [0]           |      A      |   -0.0353\n",
      "   2  |   2   |   1.4460 |        6     |       1     |         [0, 0]         |     A-A     |    0.0284\n",
      "   3  |   2   |   2.0450 |        3     |       2     |         [0, 0]         |     A-A     |    0.0134\n",
      "   4  |   2   |   2.5046 |       12     |       3     |         [0, 0]         |     A-A     |    0.0171\n",
      "   5  |   2   |   2.8921 |        6     |       4     |         [0, 0]         |     A-A     |        -0\n",
      "   6  |   2   |   3.2334 |       12     |       5     |         [0, 0]         |     A-A     |        -0\n",
      "   7  |   2   |   3.5420 |        4     |       6     |         [0, 0]         |     A-A     |   0.00289\n",
      "   8  |   2   |   3.8258 |       24     |       7     |         [0, 0]         |     A-A     |  -0.00173\n",
      "   9  |   2   |   4.0900 |        3     |       8     |         [0, 0]         |     A-A     | -0.000278\n",
      " ...\n",
      "  45  |   4   |   2.1691 |        8     |      44     |      [0, 0, 0, 0]      |   A-A-A-A   |         0\n",
      "  46  |   4   |   2.2295 |       24     |      45     |      [0, 0, 0, 0]      |   A-A-A-A   |        -0\n",
      "  47  |   4   |   2.3434 |       48     |      46     |      [0, 0, 0, 0]      |   A-A-A-A   |        -0\n",
      "  48  |   4   |   2.4193 |        8     |      47     |      [0, 0, 0, 0]      |   A-A-A-A   |     0.001\n",
      "  49  |   4   |   2.4222 |       24     |      48     |      [0, 0, 0, 0]      |   A-A-A-A   |         0\n",
      "  50  |   4   |   2.5046 |        6     |      49     |      [0, 0, 0, 0]      |   A-A-A-A   | -0.000686\n",
      "  51  |   4   |   2.5657 |       48     |      50     |      [0, 0, 0, 0]      |   A-A-A-A   |        -0\n",
      "  52  |   4   |   2.7676 |       48     |      51     |      [0, 0, 0, 0]      |   A-A-A-A   |  -0.00394\n",
      "  53  |   4   |   2.7940 |       12     |      52     |      [0, 0, 0, 0]      |   A-A-A-A   |  0.000224\n",
      "  54  |   4   |   2.8921 |        6     |      53     |      [0, 0, 0, 0]      |   A-A-A-A   | -0.000417\n",
      "========================================================================================================\n"
     ]
    }
   ],
   "source": [
    "ce = ClusterExpansion(cluster_space=cs, parameters=opt.parameters)\n",
    "print(ce)\n",
    "ce.write('mixing_energy.ce')\n"
   ]
  }
 ],
 "metadata": {
  "kernelspec": {
   "display_name": "Python 3",
   "language": "python",
   "name": "python3"
  },
  "language_info": {
   "codemirror_mode": {
    "name": "ipython",
    "version": 3
   },
   "file_extension": ".py",
   "mimetype": "text/x-python",
   "name": "python",
   "nbconvert_exporter": "python",
   "pygments_lexer": "ipython3",
   "version": "3.7.3"
  },
  "toc": {
   "base_numbering": 1,
   "nav_menu": {},
   "number_sections": true,
   "sideBar": true,
   "skip_h1_title": false,
   "title_cell": "Table of Contents",
   "title_sidebar": "Contents",
   "toc_cell": false,
   "toc_position": {},
   "toc_section_display": true,
   "toc_window_display": false
  }
 },
 "nbformat": 4,
 "nbformat_minor": 2
}
